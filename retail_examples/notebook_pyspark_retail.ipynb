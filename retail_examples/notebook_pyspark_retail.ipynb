{
 "cells": [
  {
   "cell_type": "code",
   "execution_count": 29,
   "metadata": {},
   "outputs": [],
   "source": [
    "from pyspark.sql import SparkSession\n",
    "from pyspark.sql.types import StringType, StructType, StructField, TimestampType, IntegerType\n",
    "from pyspark.sql.functions import from_json, col\n",
    "import time\n",
    "\n",
    "# Define the path to the jars on the EC2 instance\n",
    "spark_jars_path = \"/home/ec2-user/stream-processing-template/jars\"  # <-- Update this path\n",
    "\n",
    "spark = SparkSession.builder.appName(\"retail_pysaprk_consumer\") \\\n",
    "    .config(\"spark.jars\", f\"{spark_jars_path}/commons-pool2-2.11.1.jar,\"\n",
    "            f\"{spark_jars_path}/spark-sql-kafka-0-10_2.12-3.4.0.jar,\"\n",
    "            f\"{spark_jars_path}/spark-streaming-kafka-0-10-assembly_2.12-3.4.0.jar\") \\\n",
    "    .getOrCreate()\n"
   ]
  },
  {
   "cell_type": "code",
   "execution_count": 30,
   "metadata": {},
   "outputs": [],
   "source": [
    "# Define the schema for our data\n",
    "schema = StructType([\n",
    "    StructField(\"store_location\", StringType(), True),\n",
    "    StructField(\"time_of_purchase\", TimestampType(), True),\n",
    "    StructField(\"product_ID\", StringType(), True),\n",
    "    StructField(\"transaction_amount\", IntegerType(), True)\n",
    "])\n",
    "\n",
    "# Stream from Kafka topic\n",
    "df = spark.readStream \\\n",
    "    .format(\"kafka\") \\\n",
    "    .option(\"kafka.bootstrap.servers\", \"b-1.monstercluster1.6xql65.c3.kafka.eu-west-2.amazonaws.com:9092\") \\\n",
    "    .option(\"subscribe\", \"retail_transactions\") \\\n",
    "    .load()"
   ]
  },
  {
   "cell_type": "code",
   "execution_count": 31,
   "metadata": {},
   "outputs": [
    {
     "name": "stderr",
     "output_type": "stream",
     "text": [
      "23/12/14 17:00:39 WARN ResolveWriteToStream: Temporary checkpoint location created which is deleted normally when the query didn't fail: /tmp/temporary-4542f858-f2c3-4b8c-8af9-4aec4a394c77. If it's required to delete it under any circumstances, please set spark.sql.streaming.forceDeleteTempCheckpointLocation to true. Important to know deleting temp checkpoint folder is best effort.\n",
      "23/12/14 17:00:39 WARN ResolveWriteToStream: spark.sql.adaptive.enabled is not supported in streaming DataFrames/Datasets and will be disabled.\n",
      "23/12/14 17:00:39 WARN AdminClientConfig: These configurations '[key.deserializer, value.deserializer, enable.auto.commit, max.poll.records, auto.offset.reset]' were supplied but are not used yet.\n",
      "                                                                                \r"
     ]
    },
    {
     "data": {
      "text/plain": [
       "False"
      ]
     },
     "execution_count": 31,
     "metadata": {},
     "output_type": "execute_result"
    }
   ],
   "source": [
    "transactions = (df.selectExpr(\"CAST(value AS STRING)\")\n",
    "                .withColumn(\"data\", from_json(col(\"value\"), schema))\n",
    "                .select(\"data.*\"))\n",
    "\n",
    "query = transactions.writeStream \\\n",
    ".format(\"memory\") \\\n",
    ".queryName(\"temporary_view_three\") \\\n",
    ".start()\n",
    "\n",
    "query.awaitTermination(30)\n",
    "\n"
   ]
  },
  {
   "cell_type": "code",
   "execution_count": 32,
   "metadata": {},
   "outputs": [],
   "source": [
    "processed_data = spark.sql(\"SELECT * FROM temporary_view_three\")"
   ]
  },
  {
   "cell_type": "code",
   "execution_count": 33,
   "metadata": {},
   "outputs": [],
   "source": [
    "from pyspark.sql.functions import col\n",
    "from pyspark.sql.types import DoubleType\n",
    "\n",
    "transactions = processed_data.withColumn(\"transaction_amount\", col(\"transaction_amount\").cast(DoubleType()))"
   ]
  },
  {
   "cell_type": "code",
   "execution_count": 34,
   "metadata": {},
   "outputs": [
    {
     "name": "stdout",
     "output_type": "stream",
     "text": [
      "+--------------+-------------------+----------+------------------+\n",
      "|store_location|   time_of_purchase|product_ID|transaction_amount|\n",
      "+--------------+-------------------+----------+------------------+\n",
      "|   San Antonio|2023-12-14 17:00:40|    P00031|             923.0|\n",
      "|  Philadelphia|2023-12-14 17:00:42|    P00008|             709.0|\n",
      "|       Chicago|2023-12-14 17:00:45|    P00089|             910.0|\n",
      "|  Philadelphia|2023-12-14 17:00:47|    P00082|              14.0|\n",
      "|  Philadelphia|2023-12-14 17:00:49|    P00096|             588.0|\n",
      "|      New York|2023-12-14 17:00:51|    P00048|             982.0|\n",
      "|       Houston|2023-12-14 17:00:54|    P00099|             314.0|\n",
      "|   San Antonio|2023-12-14 17:00:57|    P00019|              24.0|\n",
      "|   San Antonio|2023-12-14 17:00:59|    P00069|             700.0|\n",
      "|   San Antonio|2023-12-14 17:01:01|    P00062|             859.0|\n",
      "|       Phoenix|2023-12-14 17:01:04|    P00085|             989.0|\n",
      "|       Chicago|2023-12-14 17:01:05|    P00091|             928.0|\n",
      "|      New York|2023-12-14 17:01:07|    P00042|             179.0|\n",
      "+--------------+-------------------+----------+------------------+\n",
      "\n"
     ]
    }
   ],
   "source": [
    "transactions.show()"
   ]
  },
  {
   "cell_type": "code",
   "execution_count": 35,
   "metadata": {},
   "outputs": [
    {
     "name": "stdout",
     "output_type": "stream",
     "text": [
      "+--------------+------------+\n",
      "|store_location|total_amount|\n",
      "+--------------+------------+\n",
      "|       Phoenix|       989.0|\n",
      "|   San Antonio|      2605.0|\n",
      "|  Philadelphia|      1311.0|\n",
      "|       Chicago|      1838.0|\n",
      "|       Houston|       314.0|\n",
      "|      New York|      1161.0|\n",
      "+--------------+------------+\n",
      "\n"
     ]
    }
   ],
   "source": [
    "from pyspark.sql.functions import sum\n",
    "total_transactions = transactions.groupBy(\"store_location\").agg(sum(\"transaction_amount\").alias(\"total_amount\"))\n",
    "total_transactions.show()"
   ]
  },
  {
   "cell_type": "code",
   "execution_count": 36,
   "metadata": {},
   "outputs": [
    {
     "name": "stdout",
     "output_type": "stream",
     "text": [
      "+--------------+-------------------+----------+------------------+-----------------+\n",
      "|store_location|   time_of_purchase|product_ID|transaction_amount|discounted_amount|\n",
      "+--------------+-------------------+----------+------------------+-----------------+\n",
      "|   San Antonio|2023-12-14 17:00:40|    P00031|             923.0|            830.7|\n",
      "|  Philadelphia|2023-12-14 17:00:42|    P00008|             709.0|            638.1|\n",
      "|       Chicago|2023-12-14 17:00:45|    P00089|             910.0|            819.0|\n",
      "|  Philadelphia|2023-12-14 17:00:47|    P00082|              14.0|             12.6|\n",
      "|  Philadelphia|2023-12-14 17:00:49|    P00096|             588.0|            529.2|\n",
      "|      New York|2023-12-14 17:00:51|    P00048|             982.0|883.8000000000001|\n",
      "|       Houston|2023-12-14 17:00:54|    P00099|             314.0|            282.6|\n",
      "|   San Antonio|2023-12-14 17:00:57|    P00019|              24.0|             21.6|\n",
      "|   San Antonio|2023-12-14 17:00:59|    P00069|             700.0|            630.0|\n",
      "|   San Antonio|2023-12-14 17:01:01|    P00062|             859.0|            773.1|\n",
      "|       Phoenix|2023-12-14 17:01:04|    P00085|             989.0|            890.1|\n",
      "|       Chicago|2023-12-14 17:01:05|    P00091|             928.0|            835.2|\n",
      "|      New York|2023-12-14 17:01:07|    P00042|             179.0|            161.1|\n",
      "|   San Antonio|2023-12-14 17:01:08|    P00075|              99.0|89.10000000000001|\n",
      "+--------------+-------------------+----------+------------------+-----------------+\n",
      "\n"
     ]
    }
   ],
   "source": [
    "with_discount = transactions.withColumn(\"discounted_amount\", col(\"transaction_amount\") * 0.9)\n",
    "with_discount.show()"
   ]
  },
  {
   "cell_type": "code",
   "execution_count": 37,
   "metadata": {},
   "outputs": [
    {
     "name": "stdout",
     "output_type": "stream",
     "text": [
      "+--------------+-------------------+----------+------------------+-----------------+\n",
      "|store_location|   time_of_purchase|product_ID|transaction_amount|discounted_amount|\n",
      "+--------------+-------------------+----------+------------------+-----------------+\n",
      "|   San Antonio|2023-12-14 17:00:40|    P00031|             923.0|            830.7|\n",
      "|  Philadelphia|2023-12-14 17:00:42|    P00008|             709.0|            638.1|\n",
      "|       Chicago|2023-12-14 17:00:45|    P00089|             910.0|            819.0|\n",
      "|  Philadelphia|2023-12-14 17:00:47|    P00082|              14.0|             12.6|\n",
      "|  Philadelphia|2023-12-14 17:00:49|    P00096|             588.0|            529.2|\n",
      "|      New York|2023-12-14 17:00:51|    P00048|             982.0|883.8000000000001|\n",
      "|       Houston|2023-12-14 17:00:54|    P00099|             314.0|            282.6|\n",
      "|   San Antonio|2023-12-14 17:00:57|    P00019|              24.0|             21.6|\n",
      "|   San Antonio|2023-12-14 17:00:59|    P00069|             700.0|            630.0|\n",
      "|   San Antonio|2023-12-14 17:01:01|    P00062|             859.0|            773.1|\n",
      "|       Phoenix|2023-12-14 17:01:04|    P00085|             989.0|            890.1|\n",
      "|       Chicago|2023-12-14 17:01:05|    P00091|             928.0|            835.2|\n",
      "|      New York|2023-12-14 17:01:07|    P00042|             179.0|            161.1|\n",
      "|   San Antonio|2023-12-14 17:01:08|    P00075|              99.0|89.10000000000001|\n",
      "+--------------+-------------------+----------+------------------+-----------------+\n",
      "\n"
     ]
    }
   ],
   "source": [
    "with_discount.filter(with_discount.store_location != 'online').show()"
   ]
  },
  {
   "cell_type": "code",
   "execution_count": 38,
   "metadata": {},
   "outputs": [
    {
     "name": "stdout",
     "output_type": "stream",
     "text": [
      "+--------------+----------------+----------+------------------+-----------------+\n",
      "|store_location|time_of_purchase|product_ID|transaction_amount|discounted_amount|\n",
      "+--------------+----------------+----------+------------------+-----------------+\n",
      "+--------------+----------------+----------+------------------+-----------------+\n",
      "\n"
     ]
    },
    {
     "name": "stderr",
     "output_type": "stream",
     "text": [
      "                                                                                \r"
     ]
    }
   ],
   "source": [
    "with_discount.filter(with_discount.store_location == 'online').show()"
   ]
  },
  {
   "cell_type": "markdown",
   "metadata": {},
   "source": [
    "There don't seem to be any transactions online no matter how long I run the query for."
   ]
  },
  {
   "cell_type": "code",
   "execution_count": 47,
   "metadata": {},
   "outputs": [
    {
     "name": "stderr",
     "output_type": "stream",
     "text": [
      "                                                                                \r"
     ]
    }
   ],
   "source": [
    "import plotly\n",
    "import plotly.express as px\n",
    "import pandas as pd"
   ]
  },
  {
   "cell_type": "code",
   "execution_count": 51,
   "metadata": {},
   "outputs": [
    {
     "name": "stderr",
     "output_type": "stream",
     "text": [
      "                                                                                \r"
     ]
    }
   ],
   "source": [
    "total_transactions_pd = total_transactions.toPandas()\n"
   ]
  }
 ],
 "metadata": {
  "kernelspec": {
   "display_name": "Python 3",
   "language": "python",
   "name": "python3"
  },
  "language_info": {
   "codemirror_mode": {
    "name": "ipython",
    "version": 3
   },
   "file_extension": ".py",
   "mimetype": "text/x-python",
   "name": "python",
   "nbconvert_exporter": "python",
   "pygments_lexer": "ipython3",
   "version": "3.7.16"
  }
 },
 "nbformat": 4,
 "nbformat_minor": 2
}
