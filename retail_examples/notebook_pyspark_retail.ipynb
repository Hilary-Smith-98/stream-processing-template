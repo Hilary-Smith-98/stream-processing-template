{
 "cells": [
  {
   "cell_type": "code",
   "execution_count": 1,
   "metadata": {},
   "outputs": [
    {
     "name": "stderr",
     "output_type": "stream",
     "text": [
      "23/12/15 15:21:10 WARN NativeCodeLoader: Unable to load native-hadoop library for your platform... using builtin-java classes where applicable\n",
      "Setting default log level to \"WARN\".\n",
      "To adjust logging level use sc.setLogLevel(newLevel). For SparkR, use setLogLevel(newLevel).\n",
      "/usr/local/lib/python3.7/site-packages/pyspark/context.py:317: FutureWarning: Python 3.7 support is deprecated in Spark 3.4.\n",
      "  warnings.warn(\"Python 3.7 support is deprecated in Spark 3.4.\", FutureWarning)\n"
     ]
    }
   ],
   "source": [
    "from pyspark.sql import SparkSession\n",
    "from pyspark.sql.types import StringType, StructType, StructField, TimestampType, IntegerType\n",
    "from pyspark.sql.functions import from_json, col\n",
    "import time\n",
    "\n",
    "# Define the path to the jars on the EC2 instance\n",
    "spark_jars_path = \"/home/ec2-user/stream-processing-template/jars\"  # <-- Update this path\n",
    "\n",
    "spark = SparkSession.builder.appName(\"retail_pysaprk_consumer\") \\\n",
    "    .config(\"spark.jars\", f\"{spark_jars_path}/commons-pool2-2.11.1.jar,\"\n",
    "            f\"{spark_jars_path}/spark-sql-kafka-0-10_2.12-3.4.0.jar,\"\n",
    "            f\"{spark_jars_path}/spark-streaming-kafka-0-10-assembly_2.12-3.4.0.jar\") \\\n",
    "    .getOrCreate()\n"
   ]
  },
  {
   "cell_type": "code",
   "execution_count": 2,
   "metadata": {},
   "outputs": [],
   "source": [
    "# Define the schema for our data\n",
    "schema = StructType([\n",
    "    StructField(\"store_location\", StringType(), True),\n",
    "    StructField(\"time_of_purchase\", TimestampType(), True),\n",
    "    StructField(\"product_ID\", StringType(), True),\n",
    "    StructField(\"transaction_amount\", IntegerType(), True)\n",
    "])\n",
    "\n",
    "# Stream from Kafka topic\n",
    "df = spark.readStream \\\n",
    "    .format(\"kafka\") \\\n",
    "    .option(\"kafka.bootstrap.servers\", \"b-1.monstercluster1.6xql65.c3.kafka.eu-west-2.amazonaws.com:9092\") \\\n",
    "    .option(\"subscribe\", \"retail_transactions\") \\\n",
    "    .load()"
   ]
  },
  {
   "cell_type": "code",
   "execution_count": 3,
   "metadata": {},
   "outputs": [
    {
     "name": "stderr",
     "output_type": "stream",
     "text": [
      "23/12/15 15:21:28 WARN ResolveWriteToStream: Temporary checkpoint location created which is deleted normally when the query didn't fail: /tmp/temporary-3f24401c-0c9e-49f3-a800-649ed74ed9ea. If it's required to delete it under any circumstances, please set spark.sql.streaming.forceDeleteTempCheckpointLocation to true. Important to know deleting temp checkpoint folder is best effort.\n",
      "23/12/15 15:21:28 WARN ResolveWriteToStream: spark.sql.adaptive.enabled is not supported in streaming DataFrames/Datasets and will be disabled.\n",
      "23/12/15 15:21:30 WARN AdminClientConfig: These configurations '[key.deserializer, value.deserializer, enable.auto.commit, max.poll.records, auto.offset.reset]' were supplied but are not used yet.\n",
      "                                                                                \r"
     ]
    },
    {
     "data": {
      "text/plain": [
       "False"
      ]
     },
     "execution_count": 3,
     "metadata": {},
     "output_type": "execute_result"
    }
   ],
   "source": [
    "transactions = (df.selectExpr(\"CAST(value AS STRING)\")\n",
    "                .withColumn(\"data\", from_json(col(\"value\"), schema))\n",
    "                .select(\"data.*\"))\n",
    "\n",
    "query = transactions.writeStream \\\n",
    ".format(\"memory\") \\\n",
    ".queryName(\"temporary_view_three\") \\\n",
    ".start()\n",
    "\n",
    "query.awaitTermination(30)\n",
    "\n"
   ]
  },
  {
   "cell_type": "code",
   "execution_count": 4,
   "metadata": {},
   "outputs": [],
   "source": [
    "processed_data = spark.sql(\"SELECT * FROM temporary_view_three\")"
   ]
  },
  {
   "cell_type": "code",
   "execution_count": 5,
   "metadata": {},
   "outputs": [],
   "source": [
    "from pyspark.sql.functions import col\n",
    "from pyspark.sql.types import DoubleType\n",
    "\n",
    "transactions = processed_data.withColumn(\"transaction_amount\", col(\"transaction_amount\").cast(DoubleType()))"
   ]
  },
  {
   "cell_type": "code",
   "execution_count": 6,
   "metadata": {},
   "outputs": [
    {
     "name": "stdout",
     "output_type": "stream",
     "text": [
      "+--------------+-------------------+----------+------------------+\n",
      "|store_location|   time_of_purchase|product_ID|transaction_amount|\n",
      "+--------------+-------------------+----------+------------------+\n",
      "|  Philadelphia|2023-12-15 15:21:32|    P00046|             874.0|\n",
      "|  Philadelphia|2023-12-15 15:21:33|    P00097|             496.0|\n",
      "|   Los Angeles|2023-12-15 15:21:36|    P00082|               5.0|\n",
      "|  Philadelphia|2023-12-15 15:21:37|    P00076|             188.0|\n",
      "|      New York|2023-12-15 15:21:39|    P00016|             524.0|\n",
      "|       Phoenix|2023-12-15 15:21:41|    P00094|             271.0|\n",
      "|   Los Angeles|2023-12-15 15:21:43|    P00043|             663.0|\n",
      "|      New York|2023-12-15 15:21:44|    P00029|             627.0|\n",
      "|       Phoenix|2023-12-15 15:21:46|    P00042|            -257.0|\n",
      "|      New York|2023-12-15 15:21:48|    P00090|             101.0|\n",
      "|   San Antonio|2023-12-15 15:21:50|    P00057|             181.0|\n",
      "|  Philadelphia|2023-12-15 15:21:53|    P00023|             282.0|\n",
      "|      New York|2023-12-15 15:21:55|    P00026|             122.0|\n",
      "|   San Antonio|2023-12-15 15:21:57|    P00008|             406.0|\n",
      "|       Phoenix|2023-12-15 15:21:58|    P00006|             588.0|\n",
      "+--------------+-------------------+----------+------------------+\n",
      "\n"
     ]
    }
   ],
   "source": [
    "transactions.show()"
   ]
  },
  {
   "cell_type": "code",
   "execution_count": 7,
   "metadata": {},
   "outputs": [
    {
     "name": "stderr",
     "output_type": "stream",
     "text": [
      "                                                                                \r"
     ]
    },
    {
     "name": "stdout",
     "output_type": "stream",
     "text": [
      "+--------------+------------+\n",
      "|store_location|total_amount|\n",
      "+--------------+------------+\n",
      "|       Phoenix|       602.0|\n",
      "|   San Antonio|       587.0|\n",
      "|  Philadelphia|      1840.0|\n",
      "|   Los Angeles|       668.0|\n",
      "|      New York|      1374.0|\n",
      "+--------------+------------+\n",
      "\n"
     ]
    }
   ],
   "source": [
    "from pyspark.sql.functions import sum\n",
    "total_transactions = transactions.groupBy(\"store_location\").agg(sum(\"transaction_amount\").alias(\"total_amount\"))\n",
    "total_transactions.show()"
   ]
  },
  {
   "cell_type": "code",
   "execution_count": 8,
   "metadata": {},
   "outputs": [
    {
     "name": "stdout",
     "output_type": "stream",
     "text": [
      "+--------------+-------------------+----------+------------------+------------------+\n",
      "|store_location|   time_of_purchase|product_ID|transaction_amount| discounted_amount|\n",
      "+--------------+-------------------+----------+------------------+------------------+\n",
      "|  Philadelphia|2023-12-15 15:21:32|    P00046|             874.0|             786.6|\n",
      "|  Philadelphia|2023-12-15 15:21:33|    P00097|             496.0|446.40000000000003|\n",
      "|   Los Angeles|2023-12-15 15:21:36|    P00082|               5.0|               4.5|\n",
      "|  Philadelphia|2023-12-15 15:21:37|    P00076|             188.0|169.20000000000002|\n",
      "|      New York|2023-12-15 15:21:39|    P00016|             524.0|             471.6|\n",
      "|       Phoenix|2023-12-15 15:21:41|    P00094|             271.0|             243.9|\n",
      "|   Los Angeles|2023-12-15 15:21:43|    P00043|             663.0|             596.7|\n",
      "|      New York|2023-12-15 15:21:44|    P00029|             627.0| 564.3000000000001|\n",
      "|       Phoenix|2023-12-15 15:21:46|    P00042|            -257.0|            -231.3|\n",
      "|      New York|2023-12-15 15:21:48|    P00090|             101.0|              90.9|\n",
      "|   San Antonio|2023-12-15 15:21:50|    P00057|             181.0|             162.9|\n",
      "|  Philadelphia|2023-12-15 15:21:53|    P00023|             282.0|             253.8|\n",
      "|      New York|2023-12-15 15:21:55|    P00026|             122.0|             109.8|\n",
      "|   San Antonio|2023-12-15 15:21:57|    P00008|             406.0|365.40000000000003|\n",
      "|       Phoenix|2023-12-15 15:21:58|    P00006|             588.0|             529.2|\n",
      "|   San Antonio|2023-12-15 15:22:01|    P00061|             127.0|             114.3|\n",
      "+--------------+-------------------+----------+------------------+------------------+\n",
      "\n"
     ]
    }
   ],
   "source": [
    "with_discount = transactions.withColumn(\"discounted_amount\", col(\"transaction_amount\") * 0.9)\n",
    "with_discount.show()"
   ]
  },
  {
   "cell_type": "code",
   "execution_count": 9,
   "metadata": {},
   "outputs": [
    {
     "name": "stdout",
     "output_type": "stream",
     "text": [
      "+--------------+----------------+----------+------------------+-----------------+\n",
      "|store_location|time_of_purchase|product_ID|transaction_amount|discounted_amount|\n",
      "+--------------+----------------+----------+------------------+-----------------+\n",
      "+--------------+----------------+----------+------------------+-----------------+\n",
      "\n"
     ]
    }
   ],
   "source": [
    "with_discount.filter(with_discount.store_location == 'online').show()"
   ]
  },
  {
   "cell_type": "code",
   "execution_count": 10,
   "metadata": {},
   "outputs": [
    {
     "name": "stdout",
     "output_type": "stream",
     "text": [
      "+--------------+-------------------+----------+------------------+------------------+\n",
      "|store_location|   time_of_purchase|product_ID|transaction_amount| discounted_amount|\n",
      "+--------------+-------------------+----------+------------------+------------------+\n",
      "|  Philadelphia|2023-12-15 15:21:32|    P00046|             874.0|             786.6|\n",
      "|  Philadelphia|2023-12-15 15:21:33|    P00097|             496.0|446.40000000000003|\n",
      "|   Los Angeles|2023-12-15 15:21:36|    P00082|               5.0|               4.5|\n",
      "|  Philadelphia|2023-12-15 15:21:37|    P00076|             188.0|169.20000000000002|\n",
      "|      New York|2023-12-15 15:21:39|    P00016|             524.0|             471.6|\n",
      "|       Phoenix|2023-12-15 15:21:41|    P00094|             271.0|             243.9|\n",
      "|   Los Angeles|2023-12-15 15:21:43|    P00043|             663.0|             596.7|\n",
      "|      New York|2023-12-15 15:21:44|    P00029|             627.0| 564.3000000000001|\n",
      "|       Phoenix|2023-12-15 15:21:46|    P00042|            -257.0|            -231.3|\n",
      "|      New York|2023-12-15 15:21:48|    P00090|             101.0|              90.9|\n",
      "|   San Antonio|2023-12-15 15:21:50|    P00057|             181.0|             162.9|\n",
      "|  Philadelphia|2023-12-15 15:21:53|    P00023|             282.0|             253.8|\n",
      "|      New York|2023-12-15 15:21:55|    P00026|             122.0|             109.8|\n",
      "|   San Antonio|2023-12-15 15:21:57|    P00008|             406.0|365.40000000000003|\n",
      "|       Phoenix|2023-12-15 15:21:58|    P00006|             588.0|             529.2|\n",
      "|   San Antonio|2023-12-15 15:22:01|    P00061|             127.0|             114.3|\n",
      "|       Houston|2023-12-15 15:22:03|    P00045|             735.0|             661.5|\n",
      "|      New York|2023-12-15 15:22:05|    P00095|              60.0|              54.0|\n",
      "+--------------+-------------------+----------+------------------+------------------+\n",
      "\n"
     ]
    }
   ],
   "source": [
    "with_discount.filter(with_discount.store_location != 'online').show()"
   ]
  },
  {
   "cell_type": "markdown",
   "metadata": {},
   "source": [
    "There don't seem to be any transactions online no matter how long I run the query for."
   ]
  },
  {
   "cell_type": "code",
   "execution_count": 11,
   "metadata": {},
   "outputs": [
    {
     "name": "stdout",
     "output_type": "stream",
     "text": [
      "+--------------+-------------------+----------+------------------+------------------+\n",
      "|store_location|   time_of_purchase|product_ID|transaction_amount| discounted_amount|\n",
      "+--------------+-------------------+----------+------------------+------------------+\n",
      "|  Philadelphia|2023-12-15 15:21:32|    P00046|             874.0|             786.6|\n",
      "|  Philadelphia|2023-12-15 15:21:33|    P00097|             496.0|446.40000000000003|\n",
      "|   Los Angeles|2023-12-15 15:21:36|    P00082|               5.0|               4.5|\n",
      "|  Philadelphia|2023-12-15 15:21:37|    P00076|             188.0|169.20000000000002|\n",
      "|      New York|2023-12-15 15:21:39|    P00016|             524.0|             471.6|\n",
      "|       Phoenix|2023-12-15 15:21:41|    P00094|             271.0|             243.9|\n",
      "|   Los Angeles|2023-12-15 15:21:43|    P00043|             663.0|             596.7|\n",
      "|      New York|2023-12-15 15:21:44|    P00029|             627.0| 564.3000000000001|\n",
      "|       Phoenix|2023-12-15 15:21:46|    P00042|            -257.0|            -231.3|\n",
      "|      New York|2023-12-15 15:21:48|    P00090|             101.0|              90.9|\n",
      "|   San Antonio|2023-12-15 15:21:50|    P00057|             181.0|             162.9|\n",
      "|  Philadelphia|2023-12-15 15:21:53|    P00023|             282.0|             253.8|\n",
      "|      New York|2023-12-15 15:21:55|    P00026|             122.0|             109.8|\n",
      "|   San Antonio|2023-12-15 15:21:57|    P00008|             406.0|365.40000000000003|\n",
      "|       Phoenix|2023-12-15 15:21:58|    P00006|             588.0|             529.2|\n",
      "|   San Antonio|2023-12-15 15:22:01|    P00061|             127.0|             114.3|\n",
      "|       Houston|2023-12-15 15:22:03|    P00045|             735.0|             661.5|\n",
      "|      New York|2023-12-15 15:22:05|    P00095|              60.0|              54.0|\n",
      "+--------------+-------------------+----------+------------------+------------------+\n",
      "\n"
     ]
    }
   ],
   "source": [
    "with_discount.filter(with_discount.store_location != 'Chicago').show()"
   ]
  },
  {
   "cell_type": "code",
   "execution_count": 12,
   "metadata": {},
   "outputs": [],
   "source": [
    "import plotly\n",
    "import plotly.express as px\n",
    "import pandas as pd\n"
   ]
  },
  {
   "cell_type": "code",
   "execution_count": 13,
   "metadata": {},
   "outputs": [
    {
     "data": {
      "text/html": [
       "<div>\n",
       "<style scoped>\n",
       "    .dataframe tbody tr th:only-of-type {\n",
       "        vertical-align: middle;\n",
       "    }\n",
       "\n",
       "    .dataframe tbody tr th {\n",
       "        vertical-align: top;\n",
       "    }\n",
       "\n",
       "    .dataframe thead th {\n",
       "        text-align: right;\n",
       "    }\n",
       "</style>\n",
       "<table border=\"1\" class=\"dataframe\">\n",
       "  <thead>\n",
       "    <tr style=\"text-align: right;\">\n",
       "      <th></th>\n",
       "      <th>store_location</th>\n",
       "      <th>total_amount</th>\n",
       "    </tr>\n",
       "  </thead>\n",
       "  <tbody>\n",
       "    <tr>\n",
       "      <th>0</th>\n",
       "      <td>Phoenix</td>\n",
       "      <td>602.0</td>\n",
       "    </tr>\n",
       "    <tr>\n",
       "      <th>1</th>\n",
       "      <td>San Antonio</td>\n",
       "      <td>1358.0</td>\n",
       "    </tr>\n",
       "    <tr>\n",
       "      <th>2</th>\n",
       "      <td>Philadelphia</td>\n",
       "      <td>1840.0</td>\n",
       "    </tr>\n",
       "    <tr>\n",
       "      <th>3</th>\n",
       "      <td>Los Angeles</td>\n",
       "      <td>668.0</td>\n",
       "    </tr>\n",
       "    <tr>\n",
       "      <th>4</th>\n",
       "      <td>Houston</td>\n",
       "      <td>735.0</td>\n",
       "    </tr>\n",
       "    <tr>\n",
       "      <th>5</th>\n",
       "      <td>New York</td>\n",
       "      <td>1434.0</td>\n",
       "    </tr>\n",
       "  </tbody>\n",
       "</table>\n",
       "</div>"
      ],
      "text/plain": [
       "  store_location  total_amount\n",
       "0        Phoenix         602.0\n",
       "1    San Antonio        1358.0\n",
       "2   Philadelphia        1840.0\n",
       "3    Los Angeles         668.0\n",
       "4        Houston         735.0\n",
       "5       New York        1434.0"
      ]
     },
     "execution_count": 13,
     "metadata": {},
     "output_type": "execute_result"
    }
   ],
   "source": [
    "total_transactions_pd = total_transactions.toPandas()\n",
    "total_transactions_pd\n"
   ]
  },
  {
   "cell_type": "code",
   "execution_count": 14,
   "metadata": {},
   "outputs": [],
   "source": [
    "import matplotlib.pyplot as plt"
   ]
  },
  {
   "cell_type": "markdown",
   "metadata": {},
   "source": [
    "## Total transaction amounts by store location."
   ]
  },
  {
   "cell_type": "code",
   "execution_count": 15,
   "metadata": {},
   "outputs": [
    {
     "data": {
      "text/plain": [
       "([0, 1, 2, 3, 4, 5],\n",
       " [Text(0, 0, ''),\n",
       "  Text(0, 0, ''),\n",
       "  Text(0, 0, ''),\n",
       "  Text(0, 0, ''),\n",
       "  Text(0, 0, ''),\n",
       "  Text(0, 0, '')])"
      ]
     },
     "execution_count": 15,
     "metadata": {},
     "output_type": "execute_result"
    },
    {
     "data": {
      "image/png": "[encoded data removed]",
      "text/plain": [
       "<Figure size 640x480 with 1 Axes>"
      ]
     },
     "metadata": {},
     "output_type": "display_data"
    }
   ],
   "source": [
    "plt.bar(x=total_transactions_pd.store_location, height=total_transactions_pd.total_amount, )\n",
    "plt.xticks(rotation=90)"
   ]
  },
  {
   "cell_type": "code",
   "execution_count": 16,
   "metadata": {},
   "outputs": [
    {
     "data": {
      "text/html": [
       "<div>\n",
       "<style scoped>\n",
       "    .dataframe tbody tr th:only-of-type {\n",
       "        vertical-align: middle;\n",
       "    }\n",
       "\n",
       "    .dataframe tbody tr th {\n",
       "        vertical-align: top;\n",
       "    }\n",
       "\n",
       "    .dataframe thead th {\n",
       "        text-align: right;\n",
       "    }\n",
       "</style>\n",
       "<table border=\"1\" class=\"dataframe\">\n",
       "  <thead>\n",
       "    <tr style=\"text-align: right;\">\n",
       "      <th></th>\n",
       "      <th>store_location</th>\n",
       "      <th>transaction_count</th>\n",
       "    </tr>\n",
       "  </thead>\n",
       "  <tbody>\n",
       "    <tr>\n",
       "      <th>0</th>\n",
       "      <td>Phoenix</td>\n",
       "      <td>4</td>\n",
       "    </tr>\n",
       "    <tr>\n",
       "      <th>1</th>\n",
       "      <td>San Antonio</td>\n",
       "      <td>4</td>\n",
       "    </tr>\n",
       "    <tr>\n",
       "      <th>2</th>\n",
       "      <td>Philadelphia</td>\n",
       "      <td>4</td>\n",
       "    </tr>\n",
       "    <tr>\n",
       "      <th>3</th>\n",
       "      <td>Los Angeles</td>\n",
       "      <td>2</td>\n",
       "    </tr>\n",
       "    <tr>\n",
       "      <th>4</th>\n",
       "      <td>Houston</td>\n",
       "      <td>1</td>\n",
       "    </tr>\n",
       "    <tr>\n",
       "      <th>5</th>\n",
       "      <td>New York</td>\n",
       "      <td>6</td>\n",
       "    </tr>\n",
       "  </tbody>\n",
       "</table>\n",
       "</div>"
      ],
      "text/plain": [
       "  store_location  transaction_count\n",
       "0        Phoenix                  4\n",
       "1    San Antonio                  4\n",
       "2   Philadelphia                  4\n",
       "3    Los Angeles                  2\n",
       "4        Houston                  1\n",
       "5       New York                  6"
      ]
     },
     "execution_count": 16,
     "metadata": {},
     "output_type": "execute_result"
    }
   ],
   "source": [
    "total_transactions_per_store = transactions.groupBy('store_location').count().select('store_location', col('count').alias('transaction_count'))\n",
    "total_transactions_per_store_pd = total_transactions_per_store.toPandas()\n",
    "total_transactions_per_store_pd"
   ]
  },
  {
   "cell_type": "markdown",
   "metadata": {},
   "source": [
    "## Number of transactions by store location."
   ]
  },
  {
   "cell_type": "code",
   "execution_count": 17,
   "metadata": {},
   "outputs": [
    {
     "data": {
      "text/plain": [
       "([0, 1, 2, 3, 4, 5],\n",
       " [Text(0, 0, ''),\n",
       "  Text(0, 0, ''),\n",
       "  Text(0, 0, ''),\n",
       "  Text(0, 0, ''),\n",
       "  Text(0, 0, ''),\n",
       "  Text(0, 0, '')])"
      ]
     },
     "execution_count": 17,
     "metadata": {},
     "output_type": "execute_result"
    },
    {
     "data": {
      "image/png": "[encoded data removed]",
      "text/plain": [
       "<Figure size 640x480 with 1 Axes>"
      ]
     },
     "metadata": {},
     "output_type": "display_data"
    }
   ],
   "source": [
    "plt.bar(x=total_transactions_per_store_pd.store_location, height=total_transactions_per_store_pd.transaction_count)\n",
    "plt.xticks(rotation=90)"
   ]
  },
  {
   "cell_type": "markdown",
   "metadata": {},
   "source": [
    "## Top N (10) products by the number of transactions or transaction amounts."
   ]
  },
  {
   "cell_type": "code",
   "execution_count": 85,
   "metadata": {},
   "outputs": [],
   "source": [
    "popular_products = transactions.groupBy('product_ID').count().orderBy(\"count\", ascending=False).select('product_ID', col('count').alias('transaction_count')).toPandas().head(10)"
   ]
  },
  {
   "cell_type": "code",
   "execution_count": 86,
   "metadata": {},
   "outputs": [
    {
     "data": {
      "text/html": [
       "<div>\n",
       "<style scoped>\n",
       "    .dataframe tbody tr th:only-of-type {\n",
       "        vertical-align: middle;\n",
       "    }\n",
       "\n",
       "    .dataframe tbody tr th {\n",
       "        vertical-align: top;\n",
       "    }\n",
       "\n",
       "    .dataframe thead th {\n",
       "        text-align: right;\n",
       "    }\n",
       "</style>\n",
       "<table border=\"1\" class=\"dataframe\">\n",
       "  <thead>\n",
       "    <tr style=\"text-align: right;\">\n",
       "      <th></th>\n",
       "      <th>product_ID</th>\n",
       "      <th>transaction_count</th>\n",
       "    </tr>\n",
       "  </thead>\n",
       "  <tbody>\n",
       "    <tr>\n",
       "      <th>0</th>\n",
       "      <td>P00082</td>\n",
       "      <td>15</td>\n",
       "    </tr>\n",
       "    <tr>\n",
       "      <th>1</th>\n",
       "      <td>P00047</td>\n",
       "      <td>15</td>\n",
       "    </tr>\n",
       "    <tr>\n",
       "      <th>2</th>\n",
       "      <td>P00031</td>\n",
       "      <td>15</td>\n",
       "    </tr>\n",
       "    <tr>\n",
       "      <th>3</th>\n",
       "      <td>P00055</td>\n",
       "      <td>15</td>\n",
       "    </tr>\n",
       "    <tr>\n",
       "      <th>4</th>\n",
       "      <td>P00003</td>\n",
       "      <td>15</td>\n",
       "    </tr>\n",
       "    <tr>\n",
       "      <th>5</th>\n",
       "      <td>P00054</td>\n",
       "      <td>15</td>\n",
       "    </tr>\n",
       "    <tr>\n",
       "      <th>6</th>\n",
       "      <td>P00096</td>\n",
       "      <td>15</td>\n",
       "    </tr>\n",
       "    <tr>\n",
       "      <th>7</th>\n",
       "      <td>P00061</td>\n",
       "      <td>15</td>\n",
       "    </tr>\n",
       "    <tr>\n",
       "      <th>8</th>\n",
       "      <td>P00085</td>\n",
       "      <td>14</td>\n",
       "    </tr>\n",
       "    <tr>\n",
       "      <th>9</th>\n",
       "      <td>P00065</td>\n",
       "      <td>14</td>\n",
       "    </tr>\n",
       "  </tbody>\n",
       "</table>\n",
       "</div>"
      ],
      "text/plain": [
       "  product_ID  transaction_count\n",
       "0     P00082                 15\n",
       "1     P00047                 15\n",
       "2     P00031                 15\n",
       "3     P00055                 15\n",
       "4     P00003                 15\n",
       "5     P00054                 15\n",
       "6     P00096                 15\n",
       "7     P00061                 15\n",
       "8     P00085                 14\n",
       "9     P00065                 14"
      ]
     },
     "execution_count": 86,
     "metadata": {},
     "output_type": "execute_result"
    }
   ],
   "source": [
    "popular_products = pd.DataFrame(popular_products)\n",
    "popular_products"
   ]
  },
  {
   "cell_type": "code",
   "execution_count": 87,
   "metadata": {},
   "outputs": [
    {
     "data": {
      "text/plain": [
       "([0, 1, 2, 3, 4, 5, 6, 7, 8, 9],\n",
       " [Text(0, 0, ''),\n",
       "  Text(0, 0, ''),\n",
       "  Text(0, 0, ''),\n",
       "  Text(0, 0, ''),\n",
       "  Text(0, 0, ''),\n",
       "  Text(0, 0, ''),\n",
       "  Text(0, 0, ''),\n",
       "  Text(0, 0, ''),\n",
       "  Text(0, 0, ''),\n",
       "  Text(0, 0, '')])"
      ]
     },
     "execution_count": 87,
     "metadata": {},
     "output_type": "execute_result"
    },
    {
     "data": {
      "image/png": "[encoded data removed]",
      "text/plain": [
       "<Figure size 640x480 with 1 Axes>"
      ]
     },
     "metadata": {},
     "output_type": "display_data"
    },
    {
     "name": "stderr",
     "output_type": "stream",
     "text": [
      "                                                                                \r"
     ]
    }
   ],
   "source": [
    "plt.bar(x=popular_products.product_ID, height=popular_products.transaction_count)\n",
    "plt.xticks(rotation=90)"
   ]
  },
  {
   "cell_type": "markdown",
   "metadata": {},
   "source": [
    "## Transaction counts over time (hourly, daily)."
   ]
  },
  {
   "cell_type": "code",
   "execution_count": 99,
   "metadata": {},
   "outputs": [],
   "source": [
    "import datetime "
   ]
  },
  {
   "cell_type": "code",
   "execution_count": 95,
   "metadata": {},
   "outputs": [],
   "source": [
    "transactions_pd = transactions.toPandas()"
   ]
  },
  {
   "cell_type": "code",
   "execution_count": 100,
   "metadata": {},
   "outputs": [
    {
     "data": {
      "text/plain": [
       "<bound method NDFrame.tail of 0      2023-12-15 15:21:32\n",
       "1      2023-12-15 15:21:33\n",
       "2      2023-12-15 15:21:36\n",
       "3      2023-12-15 15:21:37\n",
       "4      2023-12-15 15:21:39\n",
       "               ...        \n",
       "1466   2023-12-15 16:10:14\n",
       "1467   2023-12-15 16:10:16\n",
       "1468   2023-12-15 16:10:18\n",
       "1469   2023-12-15 16:10:21\n",
       "1470   2023-12-15 16:10:23\n",
       "Name: time_of_purchase, Length: 1471, dtype: datetime64[ns]>"
      ]
     },
     "execution_count": 100,
     "metadata": {},
     "output_type": "execute_result"
    },
    {
     "name": "stderr",
     "output_type": "stream",
     "text": [
      "                                                                                \r"
     ]
    }
   ],
   "source": [
    "transactions_pd.time_of_purchase.tail"
   ]
  },
  {
   "cell_type": "code",
   "execution_count": 106,
   "metadata": {},
   "outputs": [
    {
     "ename": "ValueError",
     "evalue": "The truth value of a Series is ambiguous. Use a.empty, a.bool(), a.item(), a.any() or a.all().",
     "output_type": "error",
     "traceback": [
      "\u001b[0;31m---------------------------------------------------------------------------\u001b[0m",
      "\u001b[0;31mValueError\u001b[0m                                Traceback (most recent call last)",
      "\u001b[0;32m/tmp/ipykernel_27616/2778569965.py\u001b[0m in \u001b[0;36m<module>\u001b[0;34m\u001b[0m\n\u001b[0;32m----> 1\u001b[0;31m \u001b[0mtransactions_pd\u001b[0m\u001b[0;34m.\u001b[0m\u001b[0mtime_of_purchase\u001b[0m\u001b[0;34m.\u001b[0m\u001b[0mfilter\u001b[0m\u001b[0;34m(\u001b[0m\u001b[0mdatetime\u001b[0m\u001b[0;34m.\u001b[0m\u001b[0mdatetime\u001b[0m\u001b[0;34m(\u001b[0m\u001b[0;36m2023\u001b[0m\u001b[0;34m,\u001b[0m\u001b[0;36m12\u001b[0m\u001b[0;34m,\u001b[0m\u001b[0;36m15\u001b[0m\u001b[0;34m,\u001b[0m\u001b[0;36m15\u001b[0m\u001b[0;34m,\u001b[0m\u001b[0;36m21\u001b[0m\u001b[0;34m,\u001b[0m\u001b[0;36m0\u001b[0m\u001b[0;34m)\u001b[0m \u001b[0;34m<=\u001b[0m \u001b[0mtransactions_pd\u001b[0m\u001b[0;34m.\u001b[0m\u001b[0mtime_of_purchase\u001b[0m \u001b[0;34m<=\u001b[0m \u001b[0mdatetime\u001b[0m\u001b[0;34m.\u001b[0m\u001b[0mdatetime\u001b[0m\u001b[0;34m(\u001b[0m\u001b[0;36m2023\u001b[0m\u001b[0;34m,\u001b[0m\u001b[0;36m12\u001b[0m\u001b[0;34m,\u001b[0m\u001b[0;36m15\u001b[0m\u001b[0;34m,\u001b[0m\u001b[0;36m15\u001b[0m\u001b[0;34m,\u001b[0m\u001b[0;36m22\u001b[0m\u001b[0;34m,\u001b[0m\u001b[0;36m0\u001b[0m\u001b[0;34m)\u001b[0m\u001b[0;34m)\u001b[0m\u001b[0;34m\u001b[0m\u001b[0;34m\u001b[0m\u001b[0m\n\u001b[0m",
      "\u001b[0;32m/usr/local/lib64/python3.7/site-packages/pandas/core/generic.py\u001b[0m in \u001b[0;36m__nonzero__\u001b[0;34m(self)\u001b[0m\n\u001b[1;32m   1536\u001b[0m     \u001b[0;32mdef\u001b[0m \u001b[0m__nonzero__\u001b[0m\u001b[0;34m(\u001b[0m\u001b[0mself\u001b[0m\u001b[0;34m)\u001b[0m\u001b[0;34m:\u001b[0m\u001b[0;34m\u001b[0m\u001b[0;34m\u001b[0m\u001b[0m\n\u001b[1;32m   1537\u001b[0m         raise ValueError(\n\u001b[0;32m-> 1538\u001b[0;31m             \u001b[0;34mf\"The truth value of a {type(self).__name__} is ambiguous. \"\u001b[0m\u001b[0;34m\u001b[0m\u001b[0;34m\u001b[0m\u001b[0m\n\u001b[0m\u001b[1;32m   1539\u001b[0m             \u001b[0;34m\"Use a.empty, a.bool(), a.item(), a.any() or a.all().\"\u001b[0m\u001b[0;34m\u001b[0m\u001b[0;34m\u001b[0m\u001b[0m\n\u001b[1;32m   1540\u001b[0m         )\n",
      "\u001b[0;31mValueError\u001b[0m: The truth value of a Series is ambiguous. Use a.empty, a.bool(), a.item(), a.any() or a.all()."
     ]
    },
    {
     "name": "stderr",
     "output_type": "stream",
     "text": [
      "                                                                                \r"
     ]
    }
   ],
   "source": [
    "transactions_pd.time_of_purchase.filter(datetime.datetime(2023,12,15,15,21,0) <= transactions_pd.time_of_purchase <= datetime.datetime(2023,12,15,15,22,0))"
   ]
  }
 ],
 "metadata": {
  "kernelspec": {
   "display_name": "Python 3",
   "language": "python",
   "name": "python3"
  },
  "language_info": {
   "codemirror_mode": {
    "name": "ipython",
    "version": 3
   },
   "file_extension": ".py",
   "mimetype": "text/x-python",
   "name": "python",
   "nbconvert_exporter": "python",
   "pygments_lexer": "ipython3",
   "version": "3.7.16"
  }
 },
 "nbformat": 4,
 "nbformat_minor": 2
}
