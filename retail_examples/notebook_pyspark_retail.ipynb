{
 "cells": [
  {
   "cell_type": "code",
   "execution_count": 1,
   "metadata": {},
   "outputs": [
    {
     "name": "stderr",
     "output_type": "stream",
     "text": [
      "23/12/14 17:46:40 WARN NativeCodeLoader: Unable to load native-hadoop library for your platform... using builtin-java classes where applicable\n",
      "Setting default log level to \"WARN\".\n",
      "To adjust logging level use sc.setLogLevel(newLevel). For SparkR, use setLogLevel(newLevel).\n",
      "/usr/local/lib/python3.7/site-packages/pyspark/context.py:317: FutureWarning: Python 3.7 support is deprecated in Spark 3.4.\n",
      "  warnings.warn(\"Python 3.7 support is deprecated in Spark 3.4.\", FutureWarning)\n"
     ]
    }
   ],
   "source": [
    "from pyspark.sql import SparkSession\n",
    "from pyspark.sql.types import StringType, StructType, StructField, TimestampType, IntegerType\n",
    "from pyspark.sql.functions import from_json, col\n",
    "import time\n",
    "\n",
    "# Define the path to the jars on the EC2 instance\n",
    "spark_jars_path = \"/home/ec2-user/stream-processing-template/jars\"  # <-- Update this path\n",
    "\n",
    "spark = SparkSession.builder.appName(\"retail_pysaprk_consumer\") \\\n",
    "    .config(\"spark.jars\", f\"{spark_jars_path}/commons-pool2-2.11.1.jar,\"\n",
    "            f\"{spark_jars_path}/spark-sql-kafka-0-10_2.12-3.4.0.jar,\"\n",
    "            f\"{spark_jars_path}/spark-streaming-kafka-0-10-assembly_2.12-3.4.0.jar\") \\\n",
    "    .getOrCreate()\n"
   ]
  },
  {
   "cell_type": "code",
   "execution_count": 2,
   "metadata": {},
   "outputs": [],
   "source": [
    "# Define the schema for our data\n",
    "schema = StructType([\n",
    "    StructField(\"store_location\", StringType(), True),\n",
    "    StructField(\"time_of_purchase\", TimestampType(), True),\n",
    "    StructField(\"product_ID\", StringType(), True),\n",
    "    StructField(\"transaction_amount\", IntegerType(), True)\n",
    "])\n",
    "\n",
    "# Stream from Kafka topic\n",
    "df = spark.readStream \\\n",
    "    .format(\"kafka\") \\\n",
    "    .option(\"kafka.bootstrap.servers\", \"b-1.monstercluster1.6xql65.c3.kafka.eu-west-2.amazonaws.com:9092\") \\\n",
    "    .option(\"subscribe\", \"retail_transactions\") \\\n",
    "    .load()"
   ]
  },
  {
   "cell_type": "code",
   "execution_count": 3,
   "metadata": {},
   "outputs": [
    {
     "name": "stderr",
     "output_type": "stream",
     "text": [
      "23/12/14 17:46:49 WARN ResolveWriteToStream: Temporary checkpoint location created which is deleted normally when the query didn't fail: /tmp/temporary-81483a26-b865-4339-a4ed-0c343e215de9. If it's required to delete it under any circumstances, please set spark.sql.streaming.forceDeleteTempCheckpointLocation to true. Important to know deleting temp checkpoint folder is best effort.\n",
      "23/12/14 17:46:49 WARN ResolveWriteToStream: spark.sql.adaptive.enabled is not supported in streaming DataFrames/Datasets and will be disabled.\n",
      "23/12/14 17:46:52 WARN AdminClientConfig: These configurations '[key.deserializer, value.deserializer, enable.auto.commit, max.poll.records, auto.offset.reset]' were supplied but are not used yet.\n",
      "                                                                                \r"
     ]
    },
    {
     "data": {
      "text/plain": [
       "False"
      ]
     },
     "execution_count": 3,
     "metadata": {},
     "output_type": "execute_result"
    }
   ],
   "source": [
    "transactions = (df.selectExpr(\"CAST(value AS STRING)\")\n",
    "                .withColumn(\"data\", from_json(col(\"value\"), schema))\n",
    "                .select(\"data.*\"))\n",
    "\n",
    "query = transactions.writeStream \\\n",
    ".format(\"memory\") \\\n",
    ".queryName(\"temporary_view_three\") \\\n",
    ".start()\n",
    "\n",
    "query.awaitTermination(30)\n",
    "\n"
   ]
  },
  {
   "cell_type": "code",
   "execution_count": 4,
   "metadata": {},
   "outputs": [],
   "source": [
    "processed_data = spark.sql(\"SELECT * FROM temporary_view_three\")"
   ]
  },
  {
   "cell_type": "code",
   "execution_count": 5,
   "metadata": {},
   "outputs": [],
   "source": [
    "from pyspark.sql.functions import col\n",
    "from pyspark.sql.types import DoubleType\n",
    "\n",
    "transactions = processed_data.withColumn(\"transaction_amount\", col(\"transaction_amount\").cast(DoubleType()))"
   ]
  },
  {
   "cell_type": "code",
   "execution_count": 6,
   "metadata": {},
   "outputs": [
    {
     "name": "stdout",
     "output_type": "stream",
     "text": [
      "+--------------+-------------------+----------+------------------+\n",
      "|store_location|   time_of_purchase|product_ID|transaction_amount|\n",
      "+--------------+-------------------+----------+------------------+\n",
      "|       Phoenix|2023-12-14 17:46:54|    P00071|            -537.0|\n",
      "|   San Antonio|2023-12-14 17:46:57|    P00084|             134.0|\n",
      "|       Phoenix|2023-12-14 17:46:58|    P00006|             750.0|\n",
      "|       Chicago|2023-12-14 17:47:00|    P00018|             378.0|\n",
      "|  Philadelphia|2023-12-14 17:47:03|    P00058|             128.0|\n",
      "|       Houston|2023-12-14 17:47:05|    P00014|             318.0|\n",
      "|   San Antonio|2023-12-14 17:47:08|    P00014|             368.0|\n",
      "|   San Antonio|2023-12-14 17:47:11|    P00018|             489.0|\n",
      "|   Los Angeles|2023-12-14 17:47:13|    P00011|             105.0|\n",
      "|       Chicago|2023-12-14 17:47:15|    P00057|              29.0|\n",
      "|       Chicago|2023-12-14 17:47:17|    P00068|             628.0|\n",
      "|   Los Angeles|2023-12-14 17:47:19|    P00031|             883.0|\n",
      "|   Los Angeles|2023-12-14 17:47:20|    P00033|             833.0|\n",
      "+--------------+-------------------+----------+------------------+\n",
      "\n"
     ]
    }
   ],
   "source": [
    "transactions.show()"
   ]
  },
  {
   "cell_type": "code",
   "execution_count": 7,
   "metadata": {},
   "outputs": [
    {
     "name": "stderr",
     "output_type": "stream",
     "text": [
      "                                                                                \r"
     ]
    },
    {
     "name": "stdout",
     "output_type": "stream",
     "text": [
      "+--------------+------------+\n",
      "|store_location|total_amount|\n",
      "+--------------+------------+\n",
      "|       Phoenix|       838.0|\n",
      "|   San Antonio|       991.0|\n",
      "|  Philadelphia|       128.0|\n",
      "|   Los Angeles|      1821.0|\n",
      "|       Chicago|      1035.0|\n",
      "|       Houston|       318.0|\n",
      "+--------------+------------+\n",
      "\n"
     ]
    }
   ],
   "source": [
    "from pyspark.sql.functions import sum\n",
    "total_transactions = transactions.groupBy(\"store_location\").agg(sum(\"transaction_amount\").alias(\"total_amount\"))\n",
    "total_transactions.show()"
   ]
  },
  {
   "cell_type": "code",
   "execution_count": 8,
   "metadata": {},
   "outputs": [
    {
     "name": "stdout",
     "output_type": "stream",
     "text": [
      "+--------------+-------------------+----------+------------------+------------------+\n",
      "|store_location|   time_of_purchase|product_ID|transaction_amount| discounted_amount|\n",
      "+--------------+-------------------+----------+------------------+------------------+\n",
      "|       Phoenix|2023-12-14 17:46:54|    P00071|            -537.0|            -483.3|\n",
      "|   San Antonio|2023-12-14 17:46:57|    P00084|             134.0|120.60000000000001|\n",
      "|       Phoenix|2023-12-14 17:46:58|    P00006|             750.0|             675.0|\n",
      "|       Chicago|2023-12-14 17:47:00|    P00018|             378.0|             340.2|\n",
      "|  Philadelphia|2023-12-14 17:47:03|    P00058|             128.0|             115.2|\n",
      "|       Houston|2023-12-14 17:47:05|    P00014|             318.0|             286.2|\n",
      "|   San Antonio|2023-12-14 17:47:08|    P00014|             368.0|             331.2|\n",
      "|   San Antonio|2023-12-14 17:47:11|    P00018|             489.0|             440.1|\n",
      "|   Los Angeles|2023-12-14 17:47:13|    P00011|             105.0|              94.5|\n",
      "|       Chicago|2023-12-14 17:47:15|    P00057|              29.0|              26.1|\n",
      "|       Chicago|2023-12-14 17:47:17|    P00068|             628.0|             565.2|\n",
      "|   Los Angeles|2023-12-14 17:47:19|    P00031|             883.0|             794.7|\n",
      "|   Los Angeles|2023-12-14 17:47:20|    P00033|             833.0|             749.7|\n",
      "|       Phoenix|2023-12-14 17:47:22|    P00016|             625.0|             562.5|\n",
      "|       Houston|2023-12-14 17:47:24|    P00052|               1.0|               0.9|\n",
      "+--------------+-------------------+----------+------------------+------------------+\n",
      "\n"
     ]
    }
   ],
   "source": [
    "with_discount = transactions.withColumn(\"discounted_amount\", col(\"transaction_amount\") * 0.9)\n",
    "with_discount.show()"
   ]
  },
  {
   "cell_type": "code",
   "execution_count": 9,
   "metadata": {},
   "outputs": [
    {
     "name": "stdout",
     "output_type": "stream",
     "text": [
      "+--------------+----------------+----------+------------------+-----------------+\n",
      "|store_location|time_of_purchase|product_ID|transaction_amount|discounted_amount|\n",
      "+--------------+----------------+----------+------------------+-----------------+\n",
      "+--------------+----------------+----------+------------------+-----------------+\n",
      "\n"
     ]
    }
   ],
   "source": [
    "with_discount.filter(with_discount.store_location == 'online').show()"
   ]
  },
  {
   "cell_type": "code",
   "execution_count": 10,
   "metadata": {},
   "outputs": [
    {
     "name": "stdout",
     "output_type": "stream",
     "text": [
      "+--------------+-------------------+----------+------------------+------------------+\n",
      "|store_location|   time_of_purchase|product_ID|transaction_amount| discounted_amount|\n",
      "+--------------+-------------------+----------+------------------+------------------+\n",
      "|       Phoenix|2023-12-14 17:46:54|    P00071|            -537.0|            -483.3|\n",
      "|   San Antonio|2023-12-14 17:46:57|    P00084|             134.0|120.60000000000001|\n",
      "|       Phoenix|2023-12-14 17:46:58|    P00006|             750.0|             675.0|\n",
      "|       Chicago|2023-12-14 17:47:00|    P00018|             378.0|             340.2|\n",
      "|  Philadelphia|2023-12-14 17:47:03|    P00058|             128.0|             115.2|\n",
      "|       Houston|2023-12-14 17:47:05|    P00014|             318.0|             286.2|\n",
      "|   San Antonio|2023-12-14 17:47:08|    P00014|             368.0|             331.2|\n",
      "|   San Antonio|2023-12-14 17:47:11|    P00018|             489.0|             440.1|\n",
      "|   Los Angeles|2023-12-14 17:47:13|    P00011|             105.0|              94.5|\n",
      "|       Chicago|2023-12-14 17:47:15|    P00057|              29.0|              26.1|\n",
      "|       Chicago|2023-12-14 17:47:17|    P00068|             628.0|             565.2|\n",
      "|   Los Angeles|2023-12-14 17:47:19|    P00031|             883.0|             794.7|\n",
      "|   Los Angeles|2023-12-14 17:47:20|    P00033|             833.0|             749.7|\n",
      "|       Phoenix|2023-12-14 17:47:22|    P00016|             625.0|             562.5|\n",
      "|       Houston|2023-12-14 17:47:24|    P00052|               1.0|               0.9|\n",
      "+--------------+-------------------+----------+------------------+------------------+\n",
      "\n"
     ]
    }
   ],
   "source": [
    "with_discount.filter(with_discount.store_location != 'online').show()"
   ]
  },
  {
   "cell_type": "markdown",
   "metadata": {},
   "source": [
    "There don't seem to be any transactions online no matter how long I run the query for."
   ]
  },
  {
   "cell_type": "code",
   "execution_count": 11,
   "metadata": {},
   "outputs": [],
   "source": [
    "import plotly\n",
    "import plotly.express as px\n",
    "import pandas as pd\n"
   ]
  },
  {
   "cell_type": "code",
   "execution_count": 17,
   "metadata": {},
   "outputs": [
    {
     "data": {
      "text/html": [
       "<div>\n",
       "<style scoped>\n",
       "    .dataframe tbody tr th:only-of-type {\n",
       "        vertical-align: middle;\n",
       "    }\n",
       "\n",
       "    .dataframe tbody tr th {\n",
       "        vertical-align: top;\n",
       "    }\n",
       "\n",
       "    .dataframe thead th {\n",
       "        text-align: right;\n",
       "    }\n",
       "</style>\n",
       "<table border=\"1\" class=\"dataframe\">\n",
       "  <thead>\n",
       "    <tr style=\"text-align: right;\">\n",
       "      <th></th>\n",
       "      <th>store_location</th>\n",
       "      <th>total_amount</th>\n",
       "    </tr>\n",
       "  </thead>\n",
       "  <tbody>\n",
       "    <tr>\n",
       "      <th>0</th>\n",
       "      <td>Phoenix</td>\n",
       "      <td>838.0</td>\n",
       "    </tr>\n",
       "    <tr>\n",
       "      <th>1</th>\n",
       "      <td>San Antonio</td>\n",
       "      <td>1375.0</td>\n",
       "    </tr>\n",
       "    <tr>\n",
       "      <th>2</th>\n",
       "      <td>Philadelphia</td>\n",
       "      <td>128.0</td>\n",
       "    </tr>\n",
       "    <tr>\n",
       "      <th>3</th>\n",
       "      <td>Los Angeles</td>\n",
       "      <td>1821.0</td>\n",
       "    </tr>\n",
       "    <tr>\n",
       "      <th>4</th>\n",
       "      <td>Chicago</td>\n",
       "      <td>1035.0</td>\n",
       "    </tr>\n",
       "    <tr>\n",
       "      <th>5</th>\n",
       "      <td>Houston</td>\n",
       "      <td>319.0</td>\n",
       "    </tr>\n",
       "  </tbody>\n",
       "</table>\n",
       "</div>"
      ],
      "text/plain": [
       "  store_location  total_amount\n",
       "0        Phoenix         838.0\n",
       "1    San Antonio        1375.0\n",
       "2   Philadelphia         128.0\n",
       "3    Los Angeles        1821.0\n",
       "4        Chicago        1035.0\n",
       "5        Houston         319.0"
      ]
     },
     "execution_count": 17,
     "metadata": {},
     "output_type": "execute_result"
    },
    {
     "name": "stderr",
     "output_type": "stream",
     "text": [
      "                                                                                \r"
     ]
    }
   ],
   "source": [
    "total_transactions_pd = total_transactions.toPandas()\n",
    "total_transactions_pd\n"
   ]
  },
  {
   "cell_type": "code",
   "execution_count": null,
   "metadata": {},
   "outputs": [],
   "source": [
    "import matplotlib.pyplot as plt"
   ]
  },
  {
   "cell_type": "code",
   "execution_count": 26,
   "metadata": {},
   "outputs": [
    {
     "data": {
      "text/plain": [
       "<BarContainer object of 6 artists>"
      ]
     },
     "execution_count": 26,
     "metadata": {},
     "output_type": "execute_result"
    },
    {
     "data": {
      "image/png": "[encoded data removed]",
      "text/plain": [
       "<Figure size 640x480 with 1 Axes>"
      ]
     },
     "metadata": {},
     "output_type": "display_data"
    },
    {
     "name": "stderr",
     "output_type": "stream",
     "text": [
      "                                                                                \r"
     ]
    }
   ],
   "source": [
    "plt.bar(x=total_transactions_pd.store_location, height=total_transactions_pd.total_amount, )"
   ]
  }
 ],
 "metadata": {
  "kernelspec": {
   "display_name": "Python 3",
   "language": "python",
   "name": "python3"
  },
  "language_info": {
   "codemirror_mode": {
    "name": "ipython",
    "version": 3
   },
   "file_extension": ".py",
   "mimetype": "text/x-python",
   "name": "python",
   "nbconvert_exporter": "python",
   "pygments_lexer": "ipython3",
   "version": "3.7.16"
  }
 },
 "nbformat": 4,
 "nbformat_minor": 2
}
